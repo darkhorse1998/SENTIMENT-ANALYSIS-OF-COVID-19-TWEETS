{
  "nbformat": 4,
  "nbformat_minor": 0,
  "metadata": {
    "colab": {
      "name": "Cleaning/Preparing_tweets.ipynb",
      "provenance": [],
      "collapsed_sections": [
        "WAWZChij8iUU",
        "ozS_WB7N8n-h",
        "9SeeB5WX8475"
      ]
    },
    "kernelspec": {
      "name": "python3",
      "display_name": "Python 3"
    }
  },
  "cells": [
    {
      "cell_type": "markdown",
      "metadata": {
        "id": "WAWZChij8iUU",
        "colab_type": "text"
      },
      "source": [
        "# IMPORTING LIBRARIES\n",
        "\n"
      ]
    },
    {
      "cell_type": "code",
      "metadata": {
        "id": "IZQbIDRiMJkO",
        "colab_type": "code",
        "colab": {}
      },
      "source": [
        "import pandas as pd\n",
        "import re\n",
        "import nltk"
      ],
      "execution_count": 271,
      "outputs": []
    },
    {
      "cell_type": "code",
      "metadata": {
        "id": "IGK9tUDh21K8",
        "colab_type": "code",
        "colab": {}
      },
      "source": [
        "# nltk.download('stopwords')\n",
        "# from nltk.corpus import stopwords\n",
        "# stopwords = stopwords.words('english')\n",
        "\n",
        "  "
      ],
      "execution_count": 304,
      "outputs": []
    },
    {
      "cell_type": "markdown",
      "metadata": {
        "id": "ozS_WB7N8n-h",
        "colab_type": "text"
      },
      "source": [
        "# DATASETS"
      ]
    },
    {
      "cell_type": "code",
      "metadata": {
        "id": "CGMrRe0hMWv3",
        "colab_type": "code",
        "colab": {}
      },
      "source": [
        "c1 = pd.read_csv(\"corona (1).csv\")\n",
        "c2 = pd.read_csv(\"corona.csv\")\n",
        "c3 = pd.read_csv(\"corona_virus.csv\")\n",
        "c4 = pd.read_csv(\"covid-19.csv\")\n",
        "\n",
        "h1 = pd.read_csv(\"USAID.csv\")\n",
        "h2 = pd.read_csv(\"WHO.csv\")\n",
        "h3 = pd.read_csv(\"World_Health.csv\")\n",
        "\n",
        "m1 = pd.read_csv(\"covid-19 cure.csv\")\n",
        "m2 = pd.read_csv(\"covid-19 vaccine.csv\")\n",
        "m3 = pd.read_csv(\"cure.csv\")\n",
        "m4 = pd.read_csv(\"fake news.csv\")\n",
        "m5 = pd.read_csv(\"vaccine.csv\")\n",
        "\n",
        "r1 = pd.read_csv(\"religion.csv\")"
      ],
      "execution_count": 273,
      "outputs": []
    },
    {
      "cell_type": "code",
      "metadata": {
        "id": "gRFgoNejNAWX",
        "colab_type": "code",
        "colab": {}
      },
      "source": [
        "#c1.shape,c2.shape,c3.shape,c4.shape, h1.shape,h2.shape,h3.shape, m1.shape,m2.shape,m3.shape,m4.shape,m5.shape, r1.shape"
      ],
      "execution_count": 274,
      "outputs": []
    },
    {
      "cell_type": "code",
      "metadata": {
        "id": "QrVwkrvm7YKo",
        "colab_type": "code",
        "colab": {}
      },
      "source": [
        "c2 = c2.drop([\"extended_entities\",\"withheld_in_countries\"],axis=1)\n",
        "h2 = h2.drop([\"extended_entities\",\"withheld_in_countries\"],axis=1)\n",
        "m2 = m2.drop([\"withheld_in_countries\"],axis=1)\n",
        "m3 = m3.drop([\"extended_entities\",\"withheld_in_countries\"],axis=1)"
      ],
      "execution_count": 275,
      "outputs": []
    },
    {
      "cell_type": "code",
      "metadata": {
        "id": "zJp2ZXKi7gcY",
        "colab_type": "code",
        "colab": {}
      },
      "source": [
        "data = pd.concat([c1,c2,c3,c4,h1,h2,h3,m1,m2,m3,m4,m5,r1],axis=0)"
      ],
      "execution_count": 276,
      "outputs": []
    },
    {
      "cell_type": "code",
      "metadata": {
        "id": "KghmhSF57hsn",
        "colab_type": "code",
        "colab": {
          "base_uri": "https://localhost:8080/",
          "height": 34
        },
        "outputId": "c724e488-45e6-4d25-9ad8-2118a6fcb36d"
      },
      "source": [
        "data.shape"
      ],
      "execution_count": 277,
      "outputs": [
        {
          "output_type": "execute_result",
          "data": {
            "text/plain": [
              "(35000, 30)"
            ]
          },
          "metadata": {
            "tags": []
          },
          "execution_count": 277
        }
      ]
    },
    {
      "cell_type": "markdown",
      "metadata": {
        "id": "9SeeB5WX8475",
        "colab_type": "text"
      },
      "source": [
        "# SELECTING ROWS"
      ]
    },
    {
      "cell_type": "code",
      "metadata": {
        "id": "4jsIkRAN8V4i",
        "colab_type": "code",
        "colab": {
          "base_uri": "https://localhost:8080/",
          "height": 538
        },
        "outputId": "9ae7128b-8d14-4252-e3cb-4a395c5c07b5"
      },
      "source": [
        "data.isna().sum()"
      ],
      "execution_count": 278,
      "outputs": [
        {
          "output_type": "execute_result",
          "data": {
            "text/plain": [
              "contributors                 35000\n",
              "coordinates                  34987\n",
              "created_at                       0\n",
              "display_text_range               0\n",
              "entities                         0\n",
              "favorite_count                   0\n",
              "favorited                        0\n",
              "full_text                        0\n",
              "geo                          34987\n",
              "id                               0\n",
              "id_str                           0\n",
              "in_reply_to_screen_name      27565\n",
              "in_reply_to_status_id        27855\n",
              "in_reply_to_status_id_str    27855\n",
              "in_reply_to_user_id          27565\n",
              "in_reply_to_user_id_str      27565\n",
              "is_quote_status                  0\n",
              "lang                             0\n",
              "metadata                         0\n",
              "place                        34639\n",
              "possibly_sensitive           30080\n",
              "quoted_status                34056\n",
              "quoted_status_id             31579\n",
              "quoted_status_id_str         31579\n",
              "retweet_count                    0\n",
              "retweeted                        0\n",
              "retweeted_status             14120\n",
              "source                           1\n",
              "truncated                        0\n",
              "user                             0\n",
              "dtype: int64"
            ]
          },
          "metadata": {
            "tags": []
          },
          "execution_count": 278
        }
      ]
    },
    {
      "cell_type": "code",
      "metadata": {
        "id": "KUQOrdxE_WnS",
        "colab_type": "code",
        "colab": {}
      },
      "source": [
        "df = data[[\"created_at\",\"full_text\",\"favorite_count\",\"id\",\"is_quote_status\",\"retweet_count\",\"source\",\"user\"]]"
      ],
      "execution_count": 279,
      "outputs": []
    },
    {
      "cell_type": "code",
      "metadata": {
        "id": "a4MJscUxFDw8",
        "colab_type": "code",
        "colab": {}
      },
      "source": [
        ""
      ],
      "execution_count": 279,
      "outputs": []
    },
    {
      "cell_type": "markdown",
      "metadata": {
        "id": "AT0Ffsr5FNI4",
        "colab_type": "text"
      },
      "source": [
        "# CLEANING"
      ]
    },
    {
      "cell_type": "code",
      "metadata": {
        "id": "szrN87O2FVEf",
        "colab_type": "code",
        "colab": {}
      },
      "source": [
        "df = df.dropna(axis=0)"
      ],
      "execution_count": 280,
      "outputs": []
    },
    {
      "cell_type": "code",
      "metadata": {
        "id": "YjvsxSZsF0FD",
        "colab_type": "code",
        "colab": {}
      },
      "source": [
        "#df.isna().sum()"
      ],
      "execution_count": 281,
      "outputs": []
    },
    {
      "cell_type": "code",
      "metadata": {
        "id": "fC_ys4pkF-2Z",
        "colab_type": "code",
        "colab": {
          "base_uri": "https://localhost:8080/",
          "height": 67
        },
        "outputId": "9e052ee4-ef20-4af2-c5f1-a5cb3d0711d9"
      },
      "source": [
        "df.columns"
      ],
      "execution_count": 282,
      "outputs": [
        {
          "output_type": "execute_result",
          "data": {
            "text/plain": [
              "Index(['created_at', 'full_text', 'favorite_count', 'id', 'is_quote_status',\n",
              "       'retweet_count', 'source', 'user'],\n",
              "      dtype='object')"
            ]
          },
          "metadata": {
            "tags": []
          },
          "execution_count": 282
        }
      ]
    },
    {
      "cell_type": "code",
      "metadata": {
        "id": "HJwfYgZpFXYA",
        "colab_type": "code",
        "colab": {
          "base_uri": "https://localhost:8080/",
          "height": 363
        },
        "outputId": "b78a5d3f-4c7e-4349-ecfe-05f7824d8537"
      },
      "source": [
        "df.head()"
      ],
      "execution_count": 283,
      "outputs": [
        {
          "output_type": "execute_result",
          "data": {
            "text/html": [
              "<div>\n",
              "<style scoped>\n",
              "    .dataframe tbody tr th:only-of-type {\n",
              "        vertical-align: middle;\n",
              "    }\n",
              "\n",
              "    .dataframe tbody tr th {\n",
              "        vertical-align: top;\n",
              "    }\n",
              "\n",
              "    .dataframe thead th {\n",
              "        text-align: right;\n",
              "    }\n",
              "</style>\n",
              "<table border=\"1\" class=\"dataframe\">\n",
              "  <thead>\n",
              "    <tr style=\"text-align: right;\">\n",
              "      <th></th>\n",
              "      <th>created_at</th>\n",
              "      <th>full_text</th>\n",
              "      <th>favorite_count</th>\n",
              "      <th>id</th>\n",
              "      <th>is_quote_status</th>\n",
              "      <th>retweet_count</th>\n",
              "      <th>source</th>\n",
              "      <th>user</th>\n",
              "    </tr>\n",
              "  </thead>\n",
              "  <tbody>\n",
              "    <tr>\n",
              "      <th>0</th>\n",
              "      <td>2020-06-22 10:14:11</td>\n",
              "      <td>RT @IYCOdisha: Students asked to give exams in...</td>\n",
              "      <td>0</td>\n",
              "      <td>1275009177480388612</td>\n",
              "      <td>False</td>\n",
              "      <td>90</td>\n",
              "      <td>&lt;a href=\"http://twitter.com/download/android\" ...</td>\n",
              "      <td>{'id': 1206265793136091137, 'id_str': '1206265...</td>\n",
              "    </tr>\n",
              "    <tr>\n",
              "      <th>1</th>\n",
              "      <td>2020-06-22 10:14:10</td>\n",
              "      <td>RT @NSUIAssam: Every day Corona cases are incr...</td>\n",
              "      <td>0</td>\n",
              "      <td>1275009174770864130</td>\n",
              "      <td>False</td>\n",
              "      <td>21</td>\n",
              "      <td>&lt;a href=\"https://mobile.twitter.com\" rel=\"nofo...</td>\n",
              "      <td>{'id': 1037590693357613056, 'id_str': '1037590...</td>\n",
              "    </tr>\n",
              "    <tr>\n",
              "      <th>2</th>\n",
              "      <td>2020-06-22 10:14:09</td>\n",
              "      <td>RT @AdityaRajKaul: China gave the world Corona...</td>\n",
              "      <td>0</td>\n",
              "      <td>1275009172887592960</td>\n",
              "      <td>True</td>\n",
              "      <td>1496</td>\n",
              "      <td>&lt;a href=\"http://twitter.com/download/iphone\" r...</td>\n",
              "      <td>{'id': 279855461, 'id_str': '279855461', 'name...</td>\n",
              "    </tr>\n",
              "    <tr>\n",
              "      <th>3</th>\n",
              "      <td>2020-06-22 10:14:09</td>\n",
              "      <td>@Nigella_Lawson This is not going to help my c...</td>\n",
              "      <td>0</td>\n",
              "      <td>1275009170798862336</td>\n",
              "      <td>False</td>\n",
              "      <td>0</td>\n",
              "      <td>&lt;a href=\"http://twitter.com/download/iphone\" r...</td>\n",
              "      <td>{'id': 19272739, 'id_str': '19272739', 'name':...</td>\n",
              "    </tr>\n",
              "    <tr>\n",
              "      <th>4</th>\n",
              "      <td>2020-06-22 10:14:09</td>\n",
              "      <td>Even MLA's and officials are affected by Coron...</td>\n",
              "      <td>0</td>\n",
              "      <td>1275009170287104000</td>\n",
              "      <td>False</td>\n",
              "      <td>0</td>\n",
              "      <td>&lt;a href=\"http://twitter.com/download/android\" ...</td>\n",
              "      <td>{'id': 1550694234, 'id_str': '1550694234', 'na...</td>\n",
              "    </tr>\n",
              "  </tbody>\n",
              "</table>\n",
              "</div>"
            ],
            "text/plain": [
              "            created_at  ...                                               user\n",
              "0  2020-06-22 10:14:11  ...  {'id': 1206265793136091137, 'id_str': '1206265...\n",
              "1  2020-06-22 10:14:10  ...  {'id': 1037590693357613056, 'id_str': '1037590...\n",
              "2  2020-06-22 10:14:09  ...  {'id': 279855461, 'id_str': '279855461', 'name...\n",
              "3  2020-06-22 10:14:09  ...  {'id': 19272739, 'id_str': '19272739', 'name':...\n",
              "4  2020-06-22 10:14:09  ...  {'id': 1550694234, 'id_str': '1550694234', 'na...\n",
              "\n",
              "[5 rows x 8 columns]"
            ]
          },
          "metadata": {
            "tags": []
          },
          "execution_count": 283
        }
      ]
    },
    {
      "cell_type": "code",
      "metadata": {
        "id": "KCPjIlfNF9qv",
        "colab_type": "code",
        "colab": {}
      },
      "source": [
        "#extracting hashtags, handles, retweets\n",
        "hashtags = [re.findall(\"#\\w+_?\\w+?\",r) for r in df.full_text]\n",
        "handles = [re.findall(\"@\\w+_?\\w+?\",r) for r in df.full_text]\n",
        "retweets = [re.findall(\"RT @\\w+_?\\w+?:\",r) for r in df.full_text]"
      ],
      "execution_count": 284,
      "outputs": []
    },
    {
      "cell_type": "code",
      "metadata": {
        "id": "4Xl_0YsJw24M",
        "colab_type": "code",
        "colab": {}
      },
      "source": [
        ""
      ],
      "execution_count": 284,
      "outputs": []
    },
    {
      "cell_type": "code",
      "metadata": {
        "id": "ol0lzMp1q0Wq",
        "colab_type": "code",
        "colab": {}
      },
      "source": [
        "#converting 'created_at' to datetime\n",
        "df.created_at = pd.to_datetime(df.created_at)"
      ],
      "execution_count": 285,
      "outputs": []
    },
    {
      "cell_type": "code",
      "metadata": {
        "id": "3K8mXFYBvsyr",
        "colab_type": "code",
        "colab": {}
      },
      "source": [
        "#removing URLs\n",
        "clean = [re.sub(\"https?:\\/\\/(www\\.)?[-a-zA-Z0-9@:%._\\+~#=]{1,256}\\.[a-zA-Z0-9()]{1,6}\\b([-a-zA-Z0-9()@:%_\\+.~#?&//=]*)\",\" \", r) for r in df.full_text]\n",
        "\n",
        "#remove RT\n",
        "clean = [re.sub(\"(RT @\\w+)\",\" \",r) for r in clean]\n",
        "\n",
        "#removing symbols\n",
        "clean = [re.sub(\"[^\\w]+\",\" \", r) for r in clean]"
      ],
      "execution_count": 286,
      "outputs": []
    },
    {
      "cell_type": "code",
      "metadata": {
        "id": "bCfFcJOxGXjH",
        "colab_type": "code",
        "colab": {}
      },
      "source": [
        "#cleaning text\n",
        "df.full_text = clean"
      ],
      "execution_count": 287,
      "outputs": []
    },
    {
      "cell_type": "code",
      "metadata": {
        "id": "o0OyYJJQrM8d",
        "colab_type": "code",
        "colab": {}
      },
      "source": [
        "med = []\n",
        "for r in df.source:\n",
        "  med.append(r.split(\"\\\"\")[4])"
      ],
      "execution_count": 288,
      "outputs": []
    },
    {
      "cell_type": "code",
      "metadata": {
        "id": "qg0ZyZwxr-8e",
        "colab_type": "code",
        "colab": {}
      },
      "source": [
        "#removing other symbols\n",
        "med = [re.sub(\"[></](Twitter)\",\"\",r) for r in med]\n",
        "med = [re.sub(\"( for )\",\"\",r) for r in med]\n",
        "med = [re.sub(\"(</a>)\",\"\",r) for r in med]\n",
        "med = [re.sub(\"\\s\",\"\",r) for r in med]"
      ],
      "execution_count": 289,
      "outputs": []
    },
    {
      "cell_type": "code",
      "metadata": {
        "id": "DqrGsCshso5N",
        "colab_type": "code",
        "colab": {}
      },
      "source": [
        "df['Medium'] = med"
      ],
      "execution_count": 290,
      "outputs": []
    },
    {
      "cell_type": "code",
      "metadata": {
        "id": "8wbAMOswORPp",
        "colab_type": "code",
        "colab": {}
      },
      "source": [
        "# #source column\n",
        "# device = re.findall(\"Twitter for (\\w+)\",df.source.split())\n",
        "# web = [re.findall(\"Twitter (Web App)\",r) for r in df.source]\n",
        "\n",
        "# for i in range(len(device)):\n",
        "#   if(device[i]==[]):\n",
        "#     device[i] = web[i]\n",
        "# df['Medium'] = device"
      ],
      "execution_count": 291,
      "outputs": []
    },
    {
      "cell_type": "code",
      "metadata": {
        "id": "9o_BkeC3_XlQ",
        "colab_type": "code",
        "colab": {}
      },
      "source": [
        "#Name and Location\n",
        "loc = []\n",
        "name = []\n",
        "for r in df.user:\n",
        "  loc.append(r.split(\"'\")[17])\n",
        "  name.append(r.split(\"'\")[9])"
      ],
      "execution_count": 292,
      "outputs": []
    },
    {
      "cell_type": "code",
      "metadata": {
        "id": "-g3VJi_3pfSX",
        "colab_type": "code",
        "colab": {}
      },
      "source": [
        "#Names of user\n",
        "df['Name'] = name"
      ],
      "execution_count": 293,
      "outputs": []
    },
    {
      "cell_type": "code",
      "metadata": {
        "id": "TecEHIRY-03u",
        "colab_type": "code",
        "colab": {}
      },
      "source": [
        "df_new = df.drop([\"favorite_count\",\"is_quote_status\",\"source\",\"user\"],axis=1)"
      ],
      "execution_count": 294,
      "outputs": []
    },
    {
      "cell_type": "markdown",
      "metadata": {
        "id": "oGHaQ2XNxdiZ",
        "colab_type": "text"
      },
      "source": [
        "# FINAL DATASET"
      ]
    },
    {
      "cell_type": "code",
      "metadata": {
        "id": "ep9ECdx2iaw-",
        "colab_type": "code",
        "colab": {
          "base_uri": "https://localhost:8080/",
          "height": 195
        },
        "outputId": "1be147d6-7419-4ba9-d90f-9ed4a105660a"
      },
      "source": [
        "df_new.head()"
      ],
      "execution_count": 302,
      "outputs": [
        {
          "output_type": "execute_result",
          "data": {
            "text/html": [
              "<div>\n",
              "<style scoped>\n",
              "    .dataframe tbody tr th:only-of-type {\n",
              "        vertical-align: middle;\n",
              "    }\n",
              "\n",
              "    .dataframe tbody tr th {\n",
              "        vertical-align: top;\n",
              "    }\n",
              "\n",
              "    .dataframe thead th {\n",
              "        text-align: right;\n",
              "    }\n",
              "</style>\n",
              "<table border=\"1\" class=\"dataframe\">\n",
              "  <thead>\n",
              "    <tr style=\"text-align: right;\">\n",
              "      <th></th>\n",
              "      <th>created_at</th>\n",
              "      <th>full_text</th>\n",
              "      <th>id</th>\n",
              "      <th>retweet_count</th>\n",
              "      <th>Medium</th>\n",
              "      <th>Name</th>\n",
              "    </tr>\n",
              "  </thead>\n",
              "  <tbody>\n",
              "    <tr>\n",
              "      <th>0</th>\n",
              "      <td>2020-06-22 10:14:11</td>\n",
              "      <td>Students asked to give exams in the tough tim...</td>\n",
              "      <td>1275009177480388612</td>\n",
              "      <td>90</td>\n",
              "      <td>Android</td>\n",
              "      <td>Md Abu Zaid</td>\n",
              "    </tr>\n",
              "    <tr>\n",
              "      <th>1</th>\n",
              "      <td>2020-06-22 10:14:10</td>\n",
              "      <td>Every day Corona cases are increasing but sti...</td>\n",
              "      <td>1275009174770864130</td>\n",
              "      <td>21</td>\n",
              "      <td>WebApp</td>\n",
              "      <td>🎶Ujjval</td>\n",
              "    </tr>\n",
              "    <tr>\n",
              "      <th>2</th>\n",
              "      <td>2020-06-22 10:14:09</td>\n",
              "      <td>China gave the world Corona India gave the wo...</td>\n",
              "      <td>1275009172887592960</td>\n",
              "      <td>1496</td>\n",
              "      <td>iPhone</td>\n",
              "      <td>Shrikant Sahu</td>\n",
              "    </tr>\n",
              "    <tr>\n",
              "      <th>3</th>\n",
              "      <td>2020-06-22 10:14:09</td>\n",
              "      <td>Nigella_Lawson This is not going to help my c...</td>\n",
              "      <td>1275009170798862336</td>\n",
              "      <td>0</td>\n",
              "      <td>iPhone</td>\n",
              "      <td>Brooke Bannister</td>\n",
              "    </tr>\n",
              "    <tr>\n",
              "      <th>4</th>\n",
              "      <td>2020-06-22 10:14:09</td>\n",
              "      <td>Even MLA s and officials are affected by Coron...</td>\n",
              "      <td>1275009170287104000</td>\n",
              "      <td>0</td>\n",
              "      <td>Android</td>\n",
              "      <td>Karan.</td>\n",
              "    </tr>\n",
              "  </tbody>\n",
              "</table>\n",
              "</div>"
            ],
            "text/plain": [
              "           created_at  ...              Name\n",
              "0 2020-06-22 10:14:11  ...       Md Abu Zaid\n",
              "1 2020-06-22 10:14:10  ...           🎶Ujjval\n",
              "2 2020-06-22 10:14:09  ...     Shrikant Sahu\n",
              "3 2020-06-22 10:14:09  ...  Brooke Bannister\n",
              "4 2020-06-22 10:14:09  ...            Karan.\n",
              "\n",
              "[5 rows x 6 columns]"
            ]
          },
          "metadata": {
            "tags": []
          },
          "execution_count": 302
        }
      ]
    },
    {
      "cell_type": "code",
      "metadata": {
        "id": "TxURwkFMkDYt",
        "colab_type": "code",
        "colab": {}
      },
      "source": [
        "#top 4 Medium"
      ],
      "execution_count": 297,
      "outputs": []
    },
    {
      "cell_type": "code",
      "metadata": {
        "id": "JF4HablClF_9",
        "colab_type": "code",
        "colab": {
          "base_uri": "https://localhost:8080/",
          "height": 34
        },
        "outputId": "33c00d2f-a53b-4c28-f072-38b282828cae"
      },
      "source": [
        "df_new.columns"
      ],
      "execution_count": 299,
      "outputs": [
        {
          "output_type": "execute_result",
          "data": {
            "text/plain": [
              "Index(['created_at', 'full_text', 'id', 'retweet_count', 'Medium', 'Name'], dtype='object')"
            ]
          },
          "metadata": {
            "tags": []
          },
          "execution_count": 299
        }
      ]
    },
    {
      "cell_type": "code",
      "metadata": {
        "id": "L_WliEaMpkys",
        "colab_type": "code",
        "colab": {}
      },
      "source": [
        "loc1 = []\n",
        "for r in loc:\n",
        "  if(r!=''):\n",
        "    loc1.append(r)"
      ],
      "execution_count": 327,
      "outputs": []
    },
    {
      "cell_type": "code",
      "metadata": {
        "id": "-l2x51wXyM6q",
        "colab_type": "code",
        "colab": {}
      },
      "source": [
        "# loc1"
      ],
      "execution_count": 333,
      "outputs": []
    },
    {
      "cell_type": "code",
      "metadata": {
        "id": "MfDfllVYyqEx",
        "colab_type": "code",
        "colab": {}
      },
      "source": [
        "location = pd.DataFrame(loc1,columns=[\"Location\"])"
      ],
      "execution_count": 329,
      "outputs": []
    },
    {
      "cell_type": "code",
      "metadata": {
        "id": "pmd2RLxV0zMK",
        "colab_type": "code",
        "colab": {}
      },
      "source": [
        "location.to_csv(\"location.csv\")"
      ],
      "execution_count": 330,
      "outputs": []
    },
    {
      "cell_type": "code",
      "metadata": {
        "id": "fgV7hVk905Qi",
        "colab_type": "code",
        "colab": {}
      },
      "source": [
        ""
      ],
      "execution_count": 337,
      "outputs": []
    }
  ]
}